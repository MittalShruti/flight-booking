{
 "cells": [
  {
   "cell_type": "code",
   "execution_count": 1,
   "metadata": {},
   "outputs": [],
   "source": [
    "template = [\n",
    "\"I want to book flight between {city1} and {city2} on {date1} on {airline1}.\",\n",
    "    \n",
    "\"I want to check availability on {airline1} on {date1} for flights to {city1}.\",\n",
    "\n",
    "\"I want to check availability on {airline1} on {date1} for flights from {city1} to {city2}.\",\n",
    "    \n",
    "\"Please help me in booking flight from {city1} to {city2} on either {airline1} or {airline2} between {date1} and {date2}.\", \n",
    "\n",
    "\"Any flights between {city1} and {city2} on {date1} up to INR {money1}.\",\n",
    "\n",
    "\"Show me the cheapest flights from {city1} to {city2} on {date1}.\",\n",
    "\n",
    "\"Show me the cheapest flights from {city1} to {city2} on {date1} or {date3} or {date4}.\",\n",
    "\n",
    "\"Book a flight from {city1} on {date1} after {time1}.\",\n",
    "\n",
    "\"Book a flight to {city1} on {date1} or {date3} before {time1}.\",\n",
    "       \n",
    "\"Book a flight to {city1} on {date1} or {date3} between {time1} and {time2}.\", \n",
    "\n",
    "\"Can you please show me flights from {city1} to {city2} tomorrow? I want to avoid early morning flights.\",\n",
    "\n",
    "\"Please show me the cheapest flight from {city1} to {city2} today.\",\n",
    "\n",
    "\"I want to {reserve} {when} flights from {city1} to {city2} {day}\"\n",
    "    \n",
    "]"
   ]
  },
  {
   "cell_type": "code",
   "execution_count": 2,
   "metadata": {},
   "outputs": [],
   "source": [
    "reserve = ['book', 'check']\n",
    "\n",
    "when = ['morning', 'evening', 'late night']\n",
    "\n",
    "day = ['today', 'tomorrow', 'day after tomorrow']\n",
    "\n",
    "airline = ['Air India', \n",
    "'Jet Airways',\n",
    "'IndiGo ',\n",
    "'SpiceJet',\n",
    "'GoAir',\n",
    "'AirAsia India',\n",
    "'Vistara'\n",
    "]\n",
    "\n",
    "city = ['Visakhapatnam',\n",
    "'Guwahati',\n",
    "'Patna',\n",
    "'Gaya',\n",
    "'Raipur',\n",
    "'Diu',\n",
    "'New Delhi', \n",
    "'Ahmedabad',\n",
    "'Srinagar',\n",
    "'Jammu',\n",
    "'Ranchi',\n",
    "'Mangalore',\n",
    "'Bengaluru',\n",
    "'Trivandrum',\n",
    "'Cochin',\n",
    "'Calicut',\n",
    "'Bhopal',\n",
    "'Indore',\n",
    "'Mumbai',\n",
    "'Pune',\n",
    "'Shirdi',\n",
    "'Nagpur',\n",
    "'Imphal',\n",
    "'Shillong',\n",
    "'Aizawl',\n",
    "'Dimapur',\n",
    "'Bhubaneswar',\n",
    "'Pondicherry']\n",
    "\n",
    "money = [2000, 2500, 3000, 3500, 4000, 4500, 5000, 5500, 6000, 6500, 7000, 7500, 8000]\n",
    "\n",
    "import datetime\n",
    "from datetime import timedelta\n",
    "import random\n",
    "\n",
    "\n",
    "date_format = ['%B %d, %Y', '%d %B', '%d %B %Y']\n",
    "\n",
    "#for time range time2 = time1 + some number, if time2 is greater than 12 midnight, set it at 12 midnight  \n",
    "def get_time():\n",
    "    \n",
    "    time1 = datetime.datetime.today()\n",
    "    time2 = time1 + timedelta(hours = random.randint(1,10))\n",
    "    time2 = 23 if time2.hour>23 else time2\n",
    "    return (time1.strftime('%I %p'), time2.strftime('%I %p'))\n",
    "\n",
    "def get_date():\n",
    "    fr = datetime.date.today() + timedelta(days = random.randint(1,40))\n",
    "    to = fr + timedelta(days = random.randint(1,40))\n",
    "    random.shuffle(date_format)\n",
    "    fr_plus = fr + timedelta(days=1)\n",
    "    fr_plus_plus = fr_plus + timedelta(days=1)\n",
    "    return(fr.strftime(date_format[0]),to.strftime(date_format[0]), fr_plus.strftime(date_format[0]), \n",
    "           fr_plus_plus.strftime(date_format[0]))\n",
    "\n",
    "def get_day():\n",
    "    random.shuffle(reserve)\n",
    "    random.shuffle(when)\n",
    "    random.shuffle(day)\n",
    "    return (reserve[0], when[0], day[0])\n",
    "    \n",
    "    \n",
    "\n",
    "def get_data():\n",
    "    random.shuffle(city)\n",
    "    city1 = city[0]\n",
    "    city2 = city[1]\n",
    "    \n",
    "    random.shuffle(airline)\n",
    "    airline1 = airline[0]\n",
    "    airline2 = airline[1]\n",
    "    \n",
    "    random.shuffle(money)\n",
    "    money1 = money[0]\n",
    "    \n",
    "    time1, time2 = get_time()\n",
    "    reserve1, when1, day1 = get_day()\n",
    "    \n",
    "    date1, date2, date3, date4 = get_date()  #date2 is the date of returning \n",
    "    return city1, city2, airline1, airline2, money1, date1, date2, date3, date4, time1, time2, reserve1, when1, day1"
   ]
  },
  {
   "cell_type": "code",
   "execution_count": 3,
   "metadata": {},
   "outputs": [
    {
     "data": {
      "text/plain": [
       "('Gaya',\n",
       " 'Ahmedabad',\n",
       " 'GoAir',\n",
       " 'Vistara',\n",
       " 5000,\n",
       " 'May 31, 2018',\n",
       " 'June 15, 2018',\n",
       " 'June 01, 2018',\n",
       " 'June 02, 2018',\n",
       " '08 AM',\n",
       " '12 PM',\n",
       " 'check',\n",
       " 'morning',\n",
       " 'today')"
      ]
     },
     "execution_count": 3,
     "metadata": {},
     "output_type": "execute_result"
    }
   ],
   "source": [
    "get_data()"
   ]
  },
  {
   "cell_type": "code",
   "execution_count": null,
   "metadata": {},
   "outputs": [],
   "source": []
  },
  {
   "cell_type": "code",
   "execution_count": null,
   "metadata": {},
   "outputs": [],
   "source": []
  },
  {
   "cell_type": "code",
   "execution_count": 5,
   "metadata": {},
   "outputs": [],
   "source": [
    "with open('./flightdata.txt', 'w') as flight:\n",
    "    for i in range(0,7000):\n",
    "        random.shuffle(template)\n",
    "        city1, city2, airline1, airline2, money1, date1, date2, date3, date4, time1, time2, reserve1, when1, day1 = get_data()\n",
    "        d = template[0].format(city1=city1, city2=city2, airline1=airline1, \n",
    "                   airline2=airline2, money1=money1, date1=date1, date2=date2, \n",
    "                               date3=date3, date4=date4, time1=time1, time2=time2,\n",
    "                                 reserve=reserve1, when=when1, day=day1)\n",
    "    \n",
    "        flight.write(d + '\\n')\n",
    "        i+=1\n",
    "    \n",
    "\n",
    "flight.close()\n",
    "    \n",
    "    "
   ]
  },
  {
   "cell_type": "code",
   "execution_count": 6,
   "metadata": {},
   "outputs": [],
   "source": [
    "uniqlines = set(open('./flightdata.txt').readlines())"
   ]
  },
  {
   "cell_type": "code",
   "execution_count": 7,
   "metadata": {},
   "outputs": [
    {
     "data": {
      "text/plain": [
       "6541"
      ]
     },
     "execution_count": 7,
     "metadata": {},
     "output_type": "execute_result"
    }
   ],
   "source": [
    "len(uniqlines)"
   ]
  },
  {
   "cell_type": "code",
   "execution_count": 8,
   "metadata": {},
   "outputs": [],
   "source": [
    "bar = open('./flightdata.txt', 'w').writelines(set(uniqlines))"
   ]
  },
  {
   "cell_type": "code",
   "execution_count": null,
   "metadata": {},
   "outputs": [],
   "source": []
  },
  {
   "cell_type": "code",
   "execution_count": null,
   "metadata": {},
   "outputs": [],
   "source": []
  },
  {
   "cell_type": "code",
   "execution_count": null,
   "metadata": {},
   "outputs": [],
   "source": []
  },
  {
   "cell_type": "code",
   "execution_count": null,
   "metadata": {},
   "outputs": [],
   "source": []
  }
 ],
 "metadata": {
  "kernelspec": {
   "display_name": "Python 3",
   "language": "python",
   "name": "python3"
  },
  "language_info": {
   "codemirror_mode": {
    "name": "ipython",
    "version": 3
   },
   "file_extension": ".py",
   "mimetype": "text/x-python",
   "name": "python",
   "nbconvert_exporter": "python",
   "pygments_lexer": "ipython3",
   "version": "3.6.3"
  }
 },
 "nbformat": 4,
 "nbformat_minor": 2
}
